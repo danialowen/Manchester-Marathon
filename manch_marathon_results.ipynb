{
 "cells": [
  {
   "cell_type": "markdown",
   "id": "d773ead0-2048-4a6b-9ec4-061ea0d47e2c",
   "metadata": {},
   "source": [
    "# Manchester Marathon Results"
   ]
  },
  {
   "cell_type": "code",
   "execution_count": 78,
   "id": "20397391-bcbe-4cbb-a24b-253019307c70",
   "metadata": {},
   "outputs": [],
   "source": [
    "from pywaffle import Waffle\n",
    "import matplotlib.pyplot as plt\n",
    "import seaborn as sns\n",
    "import pandas as pd\n",
    "import datetime\n",
    "import warnings\n",
    "warnings.filterwarnings('ignore')"
   ]
  },
  {
   "cell_type": "markdown",
   "id": "2ca77449-75e0-4c8b-a58a-b600e1dac779",
   "metadata": {},
   "source": [
    "## 18-34 vs 35+ Proportions From 2022-2024"
   ]
  },
  {
   "cell_type": "code",
   "execution_count": 39,
   "id": "13412c14-fdd0-4888-b4c5-70c4a7093818",
   "metadata": {},
   "outputs": [],
   "source": [
    "# Read in the marathon data\n",
    "m_mara_24 = pd.read_csv('Manch_Marathon_2024.csv')\n",
    "m_mara_23 = pd.read_csv('Manch_Marathon_2023.csv')\n",
    "m_mara_22 = pd.read_csv('Manch_Marathon_2022.csv')"
   ]
  },
  {
   "cell_type": "markdown",
   "id": "1467e503-80c4-41cf-b607-03b3d6b4e445",
   "metadata": {},
   "source": [
    "### 2024"
   ]
  },
  {
   "cell_type": "code",
   "execution_count": 40,
   "id": "c4ebe990-c540-430d-942e-4938025fdac3",
   "metadata": {},
   "outputs": [],
   "source": [
    "# Extract just the age group\n",
    "m_mara_24_Cat = m_mara_24[['Category']]"
   ]
  },
  {
   "cell_type": "code",
   "execution_count": 41,
   "id": "9fba611f-3e2d-42cd-9b94-8652ace5c77d",
   "metadata": {},
   "outputs": [],
   "source": [
    "# First, get rid of cateogries we don't want: \"All Male\" and \"TBC\" \n",
    "m_mara_24_Cat = m_mara_24_Cat[m_mara_24_Cat[\"Category\"].str.contains(\"All Male|TBC\") == False]\n",
    "\n",
    "# Change category values to ignore gender results. We want all those age 35, 40, etc. together\n",
    "# for this instance, we're going to change senior to 18-34, and everything else to 35+ \n",
    "m_mara_24_Cat.loc[m_mara_24_Cat['Category'].str.contains('SEN', na=False), 'Category'] = \"18-34\"\n",
    "m_mara_24_Cat.loc[~m_mara_24_Cat['Category'].str.contains('18-34', na=False), 'Category'] = \"35+\""
   ]
  },
  {
   "cell_type": "code",
   "execution_count": 47,
   "id": "efbff824-0de8-4dee-a4a4-ea328e3c47f4",
   "metadata": {},
   "outputs": [
    {
     "data": {
      "text/html": [
       "<div>\n",
       "<style scoped>\n",
       "    .dataframe tbody tr th:only-of-type {\n",
       "        vertical-align: middle;\n",
       "    }\n",
       "\n",
       "    .dataframe tbody tr th {\n",
       "        vertical-align: top;\n",
       "    }\n",
       "\n",
       "    .dataframe thead th {\n",
       "        text-align: right;\n",
       "    }\n",
       "</style>\n",
       "<table border=\"1\" class=\"dataframe\">\n",
       "  <thead>\n",
       "    <tr style=\"text-align: right;\">\n",
       "      <th></th>\n",
       "      <th>count</th>\n",
       "      <th>prop</th>\n",
       "    </tr>\n",
       "    <tr>\n",
       "      <th>Category</th>\n",
       "      <th></th>\n",
       "      <th></th>\n",
       "    </tr>\n",
       "  </thead>\n",
       "  <tbody>\n",
       "    <tr>\n",
       "      <th>18-34</th>\n",
       "      <td>10940</td>\n",
       "      <td>49.102334</td>\n",
       "    </tr>\n",
       "    <tr>\n",
       "      <th>35+</th>\n",
       "      <td>11340</td>\n",
       "      <td>50.897666</td>\n",
       "    </tr>\n",
       "  </tbody>\n",
       "</table>\n",
       "</div>"
      ],
      "text/plain": [
       "          count       prop\n",
       "Category                  \n",
       "18-34     10940  49.102334\n",
       "35+       11340  50.897666"
      ]
     },
     "execution_count": 47,
     "metadata": {},
     "output_type": "execute_result"
    }
   ],
   "source": [
    "# Now let's calculate the proportion of these two age groups\n",
    "\n",
    "# First we want the count of entries in each group\n",
    "m_mara_24_Cat_count_prop = pd.DataFrame(m_mara_24_Cat.groupby(by='Category').size())\n",
    "# Rename the column to something more appropriate\n",
    "m_mara_24_Cat_count_prop = m_mara_24_Cat_count_prop.rename(columns={0:'count'})\n",
    "# Calculate the proportion\n",
    "m_mara_24_Cat_count_prop['prop'] = (m_mara_24_Cat_count_prop['count']/m_mara_24_Cat_count_prop['count'].sum())*100\n",
    "# print\n",
    "m_mara_24_Cat_count_prop"
   ]
  },
  {
   "cell_type": "markdown",
   "id": "dd128466-7b6d-44b9-8484-9612a27dff4f",
   "metadata": {},
   "source": [
    "### 2023"
   ]
  },
  {
   "cell_type": "code",
   "execution_count": 53,
   "id": "0a463ece-3ead-4aea-8426-cfda17d5b055",
   "metadata": {},
   "outputs": [],
   "source": [
    "# Extract just the age group\n",
    "m_mara_23_Cat = m_mara_23[['Category']]"
   ]
  },
  {
   "cell_type": "code",
   "execution_count": 54,
   "id": "37bae0e1-bc1f-4531-96cc-69fefe33d055",
   "metadata": {},
   "outputs": [],
   "source": [
    "# First, get rid of cateogries we don't want: \"All Male\" and \"TBC\" \n",
    "m_mara_23_Cat = m_mara_23_Cat[m_mara_23_Cat[\"Category\"].str.contains(\"All Male|TBC\") == False]\n",
    "\n",
    "# Change category values to ignore gender results. We want all those age 35, 40, etc. together\n",
    "# for this instance, we're going to change senior to 18-34, and everything else to 35+ \n",
    "m_mara_23_Cat.loc[m_mara_23_Cat['Category'].str.contains('S', na=False), 'Category'] = \"18-34\"\n",
    "m_mara_23_Cat.loc[~m_mara_23_Cat['Category'].str.contains('18-34', na=False), 'Category'] = \"35+\""
   ]
  },
  {
   "cell_type": "code",
   "execution_count": 55,
   "id": "c6a93db9-a8f2-4df2-8b68-915fa0c08b21",
   "metadata": {},
   "outputs": [
    {
     "data": {
      "text/html": [
       "<div>\n",
       "<style scoped>\n",
       "    .dataframe tbody tr th:only-of-type {\n",
       "        vertical-align: middle;\n",
       "    }\n",
       "\n",
       "    .dataframe tbody tr th {\n",
       "        vertical-align: top;\n",
       "    }\n",
       "\n",
       "    .dataframe thead th {\n",
       "        text-align: right;\n",
       "    }\n",
       "</style>\n",
       "<table border=\"1\" class=\"dataframe\">\n",
       "  <thead>\n",
       "    <tr style=\"text-align: right;\">\n",
       "      <th></th>\n",
       "      <th>count</th>\n",
       "      <th>prop</th>\n",
       "    </tr>\n",
       "    <tr>\n",
       "      <th>Category</th>\n",
       "      <th></th>\n",
       "      <th></th>\n",
       "    </tr>\n",
       "  </thead>\n",
       "  <tbody>\n",
       "    <tr>\n",
       "      <th>18-34</th>\n",
       "      <td>7675</td>\n",
       "      <td>41.41485</td>\n",
       "    </tr>\n",
       "    <tr>\n",
       "      <th>35+</th>\n",
       "      <td>10857</td>\n",
       "      <td>58.58515</td>\n",
       "    </tr>\n",
       "  </tbody>\n",
       "</table>\n",
       "</div>"
      ],
      "text/plain": [
       "          count      prop\n",
       "Category                 \n",
       "18-34      7675  41.41485\n",
       "35+       10857  58.58515"
      ]
     },
     "execution_count": 55,
     "metadata": {},
     "output_type": "execute_result"
    }
   ],
   "source": [
    "# Now let's calculate the proportion of these two age groups\n",
    "\n",
    "# First we want the count of entries in each group\n",
    "m_mara_23_Cat_count_prop = pd.DataFrame(m_mara_23_Cat.groupby(by='Category').size())\n",
    "# Rename the column to something more appropriate\n",
    "m_mara_23_Cat_count_prop = m_mara_23_Cat_count_prop.rename(columns={0:'count'})\n",
    "# Calculate the proportion\n",
    "m_mara_23_Cat_count_prop['prop'] = (m_mara_23_Cat_count_prop['count']/m_mara_23_Cat_count_prop['count'].sum())*100\n",
    "# print\n",
    "m_mara_23_Cat_count_prop"
   ]
  },
  {
   "cell_type": "markdown",
   "id": "2954de11-1fa4-4d88-82f8-abcfe27eda21",
   "metadata": {},
   "source": [
    "### 2022"
   ]
  },
  {
   "cell_type": "code",
   "execution_count": 59,
   "id": "60774223-630e-4265-8794-d05c85b2f09d",
   "metadata": {},
   "outputs": [],
   "source": [
    "# Extract just the age group\n",
    "m_mara_22_Cat = m_mara_22[['Category']]"
   ]
  },
  {
   "cell_type": "code",
   "execution_count": 60,
   "id": "4bcb751e-624f-4a97-a8aa-5ac81fe6ded0",
   "metadata": {},
   "outputs": [],
   "source": [
    "# First, get rid of cateogries we don't want: \"All Male\" and \"TBC\" \n",
    "m_mara_22_Cat = m_mara_22_Cat[m_mara_22_Cat[\"Category\"].str.contains(\"All Male|TBC\") == False]\n",
    "\n",
    "# Change category values to ignore gender results. We want all those age 35, 40, etc. together\n",
    "# for this instance, we're going to change senior to 18-34, and everything else to 35+ \n",
    "m_mara_22_Cat.loc[m_mara_22_Cat['Category'].str.contains('S', na=False), 'Category'] = \"18-34\"\n",
    "m_mara_22_Cat.loc[~m_mara_22_Cat['Category'].str.contains('18-34', na=False), 'Category'] = \"35+\""
   ]
  },
  {
   "cell_type": "code",
   "execution_count": 61,
   "id": "fe79260e-2dd0-4309-a00e-947fd9a787b3",
   "metadata": {},
   "outputs": [
    {
     "data": {
      "text/html": [
       "<div>\n",
       "<style scoped>\n",
       "    .dataframe tbody tr th:only-of-type {\n",
       "        vertical-align: middle;\n",
       "    }\n",
       "\n",
       "    .dataframe tbody tr th {\n",
       "        vertical-align: top;\n",
       "    }\n",
       "\n",
       "    .dataframe thead th {\n",
       "        text-align: right;\n",
       "    }\n",
       "</style>\n",
       "<table border=\"1\" class=\"dataframe\">\n",
       "  <thead>\n",
       "    <tr style=\"text-align: right;\">\n",
       "      <th></th>\n",
       "      <th>count</th>\n",
       "      <th>prop</th>\n",
       "    </tr>\n",
       "    <tr>\n",
       "      <th>Category</th>\n",
       "      <th></th>\n",
       "      <th></th>\n",
       "    </tr>\n",
       "  </thead>\n",
       "  <tbody>\n",
       "    <tr>\n",
       "      <th>18-34</th>\n",
       "      <td>5183</td>\n",
       "      <td>36.641923</td>\n",
       "    </tr>\n",
       "    <tr>\n",
       "      <th>35+</th>\n",
       "      <td>8962</td>\n",
       "      <td>63.358077</td>\n",
       "    </tr>\n",
       "  </tbody>\n",
       "</table>\n",
       "</div>"
      ],
      "text/plain": [
       "          count       prop\n",
       "Category                  \n",
       "18-34      5183  36.641923\n",
       "35+        8962  63.358077"
      ]
     },
     "execution_count": 61,
     "metadata": {},
     "output_type": "execute_result"
    }
   ],
   "source": [
    "# Now let's calculate the proportion of these two age groups\n",
    "\n",
    "# First we want the count of entries in each group\n",
    "m_mara_22_Cat_count_prop = pd.DataFrame(m_mara_22_Cat.groupby(by='Category').size())\n",
    "# Rename the column to something more appropriate\n",
    "m_mara_22_Cat_count_prop = m_mara_22_Cat_count_prop.rename(columns={0:'count'})\n",
    "# Calculate the proportion\n",
    "m_mara_22_Cat_count_prop['prop'] = (m_mara_22_Cat_count_prop['count']/m_mara_22_Cat_count_prop['count'].sum())*100\n",
    "# print\n",
    "m_mara_22_Cat_count_prop"
   ]
  },
  {
   "cell_type": "markdown",
   "id": "f7adb32d-9e53-491f-8b0a-f85d246591ff",
   "metadata": {},
   "source": [
    "### Plot"
   ]
  },
  {
   "cell_type": "code",
   "execution_count": 64,
   "id": "5442a472-deb0-4fa9-a1a7-9cc34a59a6bb",
   "metadata": {},
   "outputs": [
    {
     "data": {
      "image/png": "[encoded data removed]",
      "text/plain": [
       "<Figure size 1000x500 with 3 Axes>"
      ]
     },
     "metadata": {},
     "output_type": "display_data"
    }
   ],
   "source": [
    "# Set up the figure and axes\n",
    "f, ax = plt.subplots(1, 3, figsize=(10,5))\n",
    "\n",
    "########################### 2022\n",
    "Waffle.make_waffle(\n",
    "    ax=ax[0], \n",
    "    rows=10,\n",
    "    values=m_mara_22_Cat_count_prop['prop'], \n",
    "    icons='person-running',\n",
    "    icon_size=18, \n",
    "    icon_legend=True,\n",
    "    vertical=True,\n",
    "    colors=[\"#000000\", \"#F5DBD5\"],\n",
    "    title={\"label\": \"2022\", \"loc\": \"center\", \"y\":-0.1, \"fontweight\":\"bold\"}\n",
    ")\n",
    "\n",
    "########################## 2023\n",
    "Waffle.make_waffle(\n",
    "    ax=ax[1], \n",
    "    rows=10,\n",
    "    values=m_mara_23_Cat_count_prop['prop'], \n",
    "    icons='person-running',\n",
    "    icon_size=18, \n",
    "    icon_legend=True,\n",
    "    vertical=True,\n",
    "    colors=[\"#000000\", \"#F5DBD5\"],\n",
    "    title={\"label\": \"2023\", \"loc\": \"center\", \"y\":-0.1, \"fontweight\":\"bold\"}\n",
    ")\n",
    "\n",
    "########################## 2024\n",
    "Waffle.make_waffle(\n",
    "    ax=ax[2], \n",
    "    rows=10,\n",
    "    values=m_mara_24_Cat_count_prop['prop'], \n",
    "    icons='person-running',\n",
    "    icon_size=18, \n",
    "    icon_legend=True,\n",
    "    vertical=True,\n",
    "    colors=[\"#000000\", \"#F5DBD5\"],\n",
    "    legend={\n",
    "        'labels': ['18-34', '35+'], \n",
    "        'loc': 'upper right', \n",
    "        'bbox_to_anchor': (1.6, 1),\n",
    "        'ncol': 1,\n",
    "        'fontsize':13,\n",
    "        'framealpha':0,\n",
    "        'reverse':True\n",
    "    },\n",
    "    title={\"label\": \"2024\", \"loc\": \"center\", \"y\":-0.1, \"fontweight\":\"bold\"}    \n",
    ")\n",
    "\n",
    "# Create a title\n",
    "f.suptitle('Manchester Marathon', y=0.92, x=0.515);\n",
    "\n",
    "# Save the figure to the extent of the title, legend, etc. \n",
    "f.savefig(\"18_34.png\", bbox_inches='tight')"
   ]
  },
  {
   "cell_type": "markdown",
   "id": "d3b927af-50fa-4fe0-a5e4-59269ac94cf6",
   "metadata": {},
   "source": [
    "---"
   ]
  },
  {
   "cell_type": "markdown",
   "id": "3fbf7c05-531c-4dbe-bfe3-ea78afd08ac8",
   "metadata": {},
   "source": [
    "## Split Times per Checkpoint (min/km) in 2024 (only for finishers)"
   ]
  },
  {
   "cell_type": "code",
   "execution_count": 65,
   "id": "67194b7b-070b-48ba-8706-11a7dd1210df",
   "metadata": {},
   "outputs": [],
   "source": [
    "# Drop rows with NA values in any of the splits\n",
    "m_mara_24_subset = m_mara_24.dropna(subset = ['Split - 10k - Rank', 'Split - 21k - Rank', \n",
    "                                              'Split - 30k - Rank', 'Split - Finish - Duration'])\n",
    "\n",
    "m_mara_24_subset = m_mara_24_subset.reset_index()"
   ]
  },
  {
   "cell_type": "markdown",
   "id": "9344d301-6b8e-4080-b2bf-53860e01fdae",
   "metadata": {
    "tags": []
   },
   "source": [
    "### Convert duration to average split times (min/km)\n"
   ]
  },
  {
   "cell_type": "markdown",
   "id": "92e35755-8d94-4c91-a191-36612c4e2e95",
   "metadata": {},
   "source": [
    "#### Split 1"
   ]
  },
  {
   "cell_type": "code",
   "execution_count": 66,
   "id": "949fd232-9b3c-4d73-9f56-a97aeec2f960",
   "metadata": {},
   "outputs": [],
   "source": [
    "# Create a DateTimeIndex to extract the hours, minutes, seconds, etc.\n",
    "split1 = pd.DatetimeIndex(m_mara_24_subset['Split - 10k - Duration'])\n",
    "\n",
    "# Create a new column which is minutes and seconds (decimal) per km in the first split (10km)\n",
    "m_mara_24_subset['split1_minutes_and_seconds_per_km_decimal'] = pd.DataFrame((split1.hour*60+split1.minute+(split1.second*(1/60)))/10)"
   ]
  },
  {
   "cell_type": "markdown",
   "id": "c58e249f-a1ff-4c78-afd5-71f76ea4b205",
   "metadata": {},
   "source": [
    "#### Split 2"
   ]
  },
  {
   "cell_type": "code",
   "execution_count": 67,
   "id": "36a64744-0d83-4414-88b4-fefcd1508db4",
   "metadata": {},
   "outputs": [],
   "source": [
    "# Create a DateTimeIndex to extract the hours, minutes, seconds, etc.\n",
    "split2 = pd.DatetimeIndex(m_mara_24_subset['Split - 21k - Duration'])\n",
    "\n",
    "# Create a new column which is minutes and seconds (decimal) per km in the second split (21km - 10km = 11km)\n",
    "m_mara_24_subset['split2_minutes_and_seconds_per_km_decimal'] = pd.DataFrame((split2.hour*60+split2.minute+(split2.second*(1/60)))/11)"
   ]
  },
  {
   "cell_type": "markdown",
   "id": "5411db90-f74a-4934-9593-5abec81ed270",
   "metadata": {},
   "source": [
    "#### Split 3"
   ]
  },
  {
   "cell_type": "code",
   "execution_count": 68,
   "id": "ee2396f9-d6eb-48f0-847a-bca4421fb743",
   "metadata": {},
   "outputs": [],
   "source": [
    "# Create a DateTimeIndex to extract the hours, minutes, seconds, etc.\n",
    "split3 = pd.DatetimeIndex(m_mara_24_subset['Split - 30k - Duration'])\n",
    "\n",
    "# Create a new column which is minutes and seconds (decimal) per km in the third split (30km - 21km = 9km)\n",
    "m_mara_24_subset['split3_minutes_and_seconds_per_km_decimal'] = pd.DataFrame((split3.hour*60+split3.minute+(split3.second*(1/60)))/9)"
   ]
  },
  {
   "cell_type": "markdown",
   "id": "b291255c-5b0c-44aa-a44a-bd49b8746c39",
   "metadata": {},
   "source": [
    "#### Split 4"
   ]
  },
  {
   "cell_type": "code",
   "execution_count": 69,
   "id": "f8c13659-970f-4f2f-af96-8aed6ae73b6c",
   "metadata": {},
   "outputs": [],
   "source": [
    "# Create a DateTimeIndex to extract the hours, minutes, seconds, etc.\n",
    "split4 = pd.DatetimeIndex(m_mara_24_subset['Split - Finish - Duration'])\n",
    "\n",
    "# Create a new column which is minutes and seconds (decimal) per km in the final split (42.2km - 30km = 12.2km)\n",
    "m_mara_24_subset['split4_minutes_and_seconds_per_km_decimal'] = pd.DataFrame((split4.hour*60+split4.minute+(split4.second*(1/60)))/12.2)"
   ]
  },
  {
   "cell_type": "markdown",
   "id": "b45dc870-dcbd-434f-b6f7-cbf2f168f16c",
   "metadata": {},
   "source": [
    "### Plot"
   ]
  },
  {
   "cell_type": "code",
   "execution_count": 70,
   "id": "046d86e6-6ad1-4455-a0c1-c0a472fc6898",
   "metadata": {},
   "outputs": [],
   "source": [
    "# Create a subset with the splits (min/km - decimal)\n",
    "m_mara_splits_decimal = m_mara_24_subset[['Category', 'split1_minutes_and_seconds_per_km_decimal', 'split2_minutes_and_seconds_per_km_decimal', 'split3_minutes_and_seconds_per_km_decimal', 'split4_minutes_and_seconds_per_km_decimal']]"
   ]
  },
  {
   "cell_type": "code",
   "execution_count": 71,
   "id": "9141bb95-4bce-40b3-a984-491fb1331954",
   "metadata": {},
   "outputs": [],
   "source": [
    "# Change category value to get rid of gender - want split times per age group\n",
    "m_mara_splits_decimal.loc[m_mara_splits_decimal['Category'].str.contains('S', na=False), 'Category'] = \"18-34\"\n",
    "m_mara_splits_decimal.loc[m_mara_splits_decimal['Category'].str.contains('35', na=False), 'Category'] = \"35\"\n",
    "m_mara_splits_decimal.loc[m_mara_splits_decimal['Category'].str.contains('40', na=False), 'Category'] = \"40\"\n",
    "m_mara_splits_decimal.loc[m_mara_splits_decimal['Category'].str.contains('45', na=False), 'Category'] = \"45\"\n",
    "m_mara_splits_decimal.loc[m_mara_splits_decimal['Category'].str.contains('50', na=False), 'Category'] = \"50\"\n",
    "m_mara_splits_decimal.loc[m_mara_splits_decimal['Category'].str.contains('55', na=False), 'Category'] = \"55\"\n",
    "m_mara_splits_decimal.loc[m_mara_splits_decimal['Category'].str.contains('60', na=False), 'Category'] = \"60\"\n",
    "m_mara_splits_decimal.loc[m_mara_splits_decimal['Category'].str.contains('65', na=False), 'Category'] = \"65\"\n",
    "m_mara_splits_decimal.loc[m_mara_splits_decimal['Category'].str.contains('70', na=False), 'Category'] = \"70+\"\n",
    "m_mara_splits_decimal.loc[m_mara_splits_decimal['Category'].str.contains('75', na=False), 'Category'] = \"70+\"\n",
    "\n",
    "# Get rid of remaining cateogries: \"All Male\" and \"TBC\"\n",
    "m_mara_splits_decimal = m_mara_splits_decimal[m_mara_splits_decimal[\"Category\"].str.contains(\"All Male|TBC\") == False]"
   ]
  },
  {
   "cell_type": "code",
   "execution_count": 98,
   "id": "38dd9449-0d17-4c34-b2bb-55f1ace2f2ca",
   "metadata": {},
   "outputs": [
    {
     "data": {
      "text/html": [
       "<div>\n",
       "<style scoped>\n",
       "    .dataframe tbody tr th:only-of-type {\n",
       "        vertical-align: middle;\n",
       "    }\n",
       "\n",
       "    .dataframe tbody tr th {\n",
       "        vertical-align: top;\n",
       "    }\n",
       "\n",
       "    .dataframe thead th {\n",
       "        text-align: right;\n",
       "    }\n",
       "</style>\n",
       "<table border=\"1\" class=\"dataframe\">\n",
       "  <thead>\n",
       "    <tr style=\"text-align: right;\">\n",
       "      <th></th>\n",
       "      <th>Category</th>\n",
       "      <th>variable</th>\n",
       "      <th>value</th>\n",
       "    </tr>\n",
       "  </thead>\n",
       "  <tbody>\n",
       "    <tr>\n",
       "      <th>0</th>\n",
       "      <td>18-34</td>\n",
       "      <td>10km</td>\n",
       "      <td>5.572745</td>\n",
       "    </tr>\n",
       "    <tr>\n",
       "      <th>1</th>\n",
       "      <td>35</td>\n",
       "      <td>10km</td>\n",
       "      <td>5.435623</td>\n",
       "    </tr>\n",
       "    <tr>\n",
       "      <th>2</th>\n",
       "      <td>40</td>\n",
       "      <td>10km</td>\n",
       "      <td>5.529309</td>\n",
       "    </tr>\n",
       "    <tr>\n",
       "      <th>3</th>\n",
       "      <td>45</td>\n",
       "      <td>10km</td>\n",
       "      <td>5.593362</td>\n",
       "    </tr>\n",
       "    <tr>\n",
       "      <th>4</th>\n",
       "      <td>50</td>\n",
       "      <td>10km</td>\n",
       "      <td>5.738478</td>\n",
       "    </tr>\n",
       "  </tbody>\n",
       "</table>\n",
       "</div>"
      ],
      "text/plain": [
       "  Category variable     value\n",
       "0    18-34     10km  5.572745\n",
       "1       35     10km  5.435623\n",
       "2       40     10km  5.529309\n",
       "3       45     10km  5.593362\n",
       "4       50     10km  5.738478"
      ]
     },
     "execution_count": 98,
     "metadata": {},
     "output_type": "execute_result"
    }
   ],
   "source": [
    "# Calculate the average split time, for each checkpoint, per age group\n",
    "m_mara_splits_decimal_groupby = m_mara_splits_decimal.groupby(by='Category').mean()\n",
    "\n",
    "# Rename columns\n",
    "m_mara_splits_decimal_groupby.columns = ['10km', '21km', '30km', 'Finish']\n",
    "\n",
    "# To plot the data, we need to unstack the dataframe. We want the average split time (decimal), per age group, per checkpoint\n",
    "m_mara_splits_decimal_melt = m_mara_splits_decimal_groupby.melt(ignore_index=False).reset_index()\n",
    "\n",
    "# Preview dataset\n",
    "m_mara_splits_decimal_melt.head()"
   ]
  },
  {
   "cell_type": "code",
   "execution_count": 99,
   "id": "9a343893-370f-44d9-acac-6c22f77c3268",
   "metadata": {},
   "outputs": [
    {
     "data": {
      "image/png": "[encoded data removed]",
      "text/plain": [
       "<Figure size 900x500 with 1 Axes>"
      ]
     },
     "metadata": {},
     "output_type": "display_data"
    }
   ],
   "source": [
    "# Set up the figure and axes\n",
    "f, ax = plt.subplots(1, figsize=(9,5))\n",
    "\n",
    "# Create a scatter plot where the size and colour of the points are determined by the value\n",
    "splits = sns.scatterplot(x='variable', y='Category', data=m_mara_splits_decimal_melt, size='value', sizes=(40,1000), hue='value', ax=ax, clip_on=False)\n",
    "\n",
    "# Crteate a legend to the right of the figure\n",
    "leg = splits.legend(loc='upper right', bbox_to_anchor=(1.4, 1.05), ncol=2, frameon=True, labelspacing=2.5, borderpad=1.3, title='Minutes per km')\n",
    "\n",
    "# rename legend entries to minutes:seconds\n",
    "leg.get_texts()[0].set_text('5:30')\n",
    "leg.get_texts()[1].set_text('6:00')\n",
    "leg.get_texts()[2].set_text('6:30')\n",
    "leg.get_texts()[3].set_text('7:00')\n",
    "leg.get_texts()[4].set_text('7:30')\n",
    "leg.get_texts()[5].set_text('8:00')\n",
    "\n",
    "# Edit the formatting of the plot\n",
    "ax.spines[['right', 'top', 'bottom', 'left']].set_visible(False)\n",
    "ax.set_xlabel(\"Checkpoint\")\n",
    "ax.set_ylabel(\"Age\")\n",
    "plt.tick_params(bottom=False, left=False)\n",
    "plt.gca().invert_yaxis()\n",
    "\n",
    "# Save the figure\n",
    "f.savefig(\"Min_per_km.png\", bbox_inches='tight')"
   ]
  }
 ],
 "metadata": {
  "kernelspec": {
   "display_name": "Python 3 (ipykernel)",
   "language": "python",
   "name": "python3"
  },
  "language_info": {
   "codemirror_mode": {
    "name": "ipython",
    "version": 3
   },
   "file_extension": ".py",
   "mimetype": "text/x-python",
   "name": "python",
   "nbconvert_exporter": "python",
   "pygments_lexer": "ipython3",
   "version": "3.10.9"
  }
 },
 "nbformat": 4,
 "nbformat_minor": 5
}
